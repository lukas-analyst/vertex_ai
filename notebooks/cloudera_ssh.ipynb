{
 "cells": [
  {
   "cell_type": "code",
   "execution_count": null,
   "id": "aa228971-d34e-4819-abf7-f7176616890c",
   "metadata": {
    "tags": []
   },
   "outputs": [],
   "source": [
    "%pip install paramiko"
   ]
  },
  {
   "cell_type": "code",
   "execution_count": null,
   "id": "2d267a4c-67c0-467c-9ddd-8c90c8895178",
   "metadata": {
    "tags": []
   },
   "outputs": [],
   "source": [
    "import paramiko\n",
    "from google.cloud import storage\n",
    "import os"
   ]
  },
  {
   "cell_type": "code",
   "execution_count": null,
   "id": "6f490f62-943d-4532-b6de-c01aee490374",
   "metadata": {
    "tags": []
   },
   "outputs": [],
   "source": [
    "import os\n",
    "import paramiko\n",
    "from google.cloud import storage\n",
    "\n",
    "def ssh_to_cloudera_server():\n",
    "    \"\"\"\n",
    "    Downloads a private key from GCS and uses it to establish an SSH connection.\n",
    "    \"\"\"\n",
    "    # --- Configuration Details ---\n",
    "    GCS_KEY_URI = \"gs://workbench-essentials/cloudera-connect/x.pem\"\n",
    "    SSH_HOST = \"10.254.134.3\"\n",
    "    SSH_USER = \"Lukas.Hanzlik\"\n",
    "\n",
    "    # The temporary path where the key will be saved\n",
    "    LOCAL_KEY_PATH = \"/tmp/ssh_key.pem\"\n",
    "\n",
    "    try:\n",
    "        # 1. Download the private key from GCS\n",
    "        print(\"📥 Attempting to download the private key from GCS...\")\n",
    "        storage_client = storage.Client()\n",
    "        bucket_name, blob_name = GCS_KEY_URI.replace(\"gs://\", \"\").split(\"/\", 1)\n",
    "        bucket = storage_client.bucket(bucket_name)\n",
    "        blob = bucket.blob(blob_name)\n",
    "        blob.download_to_filename(LOCAL_KEY_PATH)\n",
    "\n",
    "        # Set file permissions to be read-only for the owner\n",
    "        os.chmod(LOCAL_KEY_PATH, 0o600)\n",
    "        print(\"✅ Private key downloaded and saved with correct permissions.\")\n",
    "\n",
    "        # 2. Establish the SSH connection\n",
    "        print(f\"🔗 Attempting to establish an SSH connection to {SSH_USER}@{SSH_HOST}...\")\n",
    "        ssh_client = paramiko.SSHClient()\n",
    "        ssh_client.set_missing_host_key_policy(paramiko.AutoAddPolicy())\n",
    "\n",
    "        # Load the private key for authentication\n",
    "        private_key = paramiko.RSAKey.from_private_key_file(LOCAL_KEY_PATH)\n",
    "        ssh_client.connect(hostname=SSH_HOST, username=SSH_USER, pkey=private_key)\n",
    "\n",
    "        print(\"🎉 SSH connection established successfully!\")\n",
    "\n",
    "        # 3. Execute a sample command to verify the connection\n",
    "        print(\"\\n--- Listing directories on the remote server ---\")\n",
    "        stdin, stdout, stderr = ssh_client.exec_command('ls -l /')\n",
    "        print(stdout.read().decode())\n",
    "\n",
    "    except paramiko.ssh_exception.AuthenticationException:\n",
    "        print(\"❌ Authentication failed. Make sure your username and private key are correct.\")\n",
    "    except Exception as e:\n",
    "        print(f\"❌ An error occurred during the SSH connection: {e}\")\n",
    "    finally:\n",
    "        # 4. Clean up the temporary key file\n",
    "        if os.path.exists(LOCAL_KEY_PATH):\n",
    "            os.remove(LOCAL_KEY_PATH)\n",
    "            print(\"🗑️ The temporary key file has been deleted.\")\n",
    "\n",
    "        # Ensure the SSH connection is closed\n",
    "        if 'ssh_client' in locals() and ssh_client.get_transport() is not None and ssh_client.get_transport().is_active():\n",
    "            ssh_client.close()\n",
    "\n",
    "# Run the function\n",
    "ssh_to_cloudera_server()"
   ]
  }
 ],
 "metadata": {
  "environment": {
   "kernel": "conda-base-py",
   "name": "workbench-notebooks.m131",
   "type": "gcloud",
   "uri": "us-docker.pkg.dev/deeplearning-platform-release/gcr.io/workbench-notebooks:m131"
  },
  "kernelspec": {
   "display_name": "Python 3 (ipykernel) (Local)",
   "language": "python",
   "name": "conda-base-py"
  },
  "language_info": {
   "codemirror_mode": {
    "name": "ipython",
    "version": 3
   },
   "file_extension": ".py",
   "mimetype": "text/x-python",
   "name": "python",
   "nbconvert_exporter": "python",
   "pygments_lexer": "ipython3",
   "version": "3.10.18"
  }
 },
 "nbformat": 4,
 "nbformat_minor": 5
}
