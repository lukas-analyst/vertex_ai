{
 "cells": [
  {
   "cell_type": "markdown",
   "id": "7c0cd62d-01f6-4a7f-9838-671100907701",
   "metadata": {
    "tags": []
   },
   "source": [
    "## Cluster managed\n",
    "Download and install libraries"
   ]
  },
  {
   "cell_type": "code",
   "execution_count": null,
   "id": "30324fa7-2481-4ffa-a6d5-4120e0baba6d",
   "metadata": {
    "tags": []
   },
   "outputs": [],
   "source": [
    "%pip install findspark\n",
    "%pip install pyspark\n",
    "\n",
    "# BigQuery connector for Spark sessions\n",
    "%pip install google-cloud-bigquery"
   ]
  },
  {
   "cell_type": "code",
   "execution_count": null,
   "id": "b3441dbb-acee-418b-95cf-172add552a4d",
   "metadata": {},
   "outputs": [],
   "source": [
    "# Google Cloud Project\n",
    "PROJECT_ID = \"adcz-adoki-poc\"\n",
    "LOCATION_ID = \"europe-west1\"\n",
    "\n",
    "print(f\"Project '{PROJECT_ID}' on a Location '{LOCATION_ID}'\")"
   ]
  },
  {
   "cell_type": "markdown",
   "id": "79d24bda-65fd-49b5-a4c9-327b3ce8a278",
   "metadata": {
    "tags": []
   },
   "source": [
    "## Connect to the cluster"
   ]
  },
  {
   "cell_type": "code",
   "execution_count": null,
   "id": "d1037708-d067-4960-aa29-8ae9af1ed040",
   "metadata": {
    "tags": []
   },
   "outputs": [],
   "source": [
    "# Connect to Cluster\n",
    "import findspark\n",
    "from pyspark.sql import SparkSession\n",
    "from pyspark.sql.functions import lower, col\n",
    "\n",
    "findspark.init()\n",
    "spark = SparkSession \\\n",
    "    .builder \\\n",
    "    .master ('yarn') \\\n",
    "    .appName(\"demo-wrkbnch-cluster\") \\\n",
    "    .getOrCreate()\n",
    "\n",
    "# spark.sparkContext.setLogLevel(\"INFO\")\n",
    "\n",
    "print(spark.sparkContext.appName)\n",
    "print(spark.sparkContext.master)"
   ]
  },
  {
   "cell_type": "markdown",
   "id": "6ddec457-edf3-4f62-836e-b952ce51ac57",
   "metadata": {
    "tags": []
   },
   "source": [
    "## Get data from GCS"
   ]
  },
  {
   "cell_type": "code",
   "execution_count": null,
   "id": "dca17b63-6f81-4943-a0e5-e5235e33637f",
   "metadata": {
    "tags": []
   },
   "outputs": [],
   "source": [
    "# Prepare vaiables\n",
    "file_location = \"gs://adastra-demo-real-estate/Properties list/dbx_property.csv\"\n",
    "\n",
    "# Get data from GCS\n",
    "df_gcs = spark.read.csv(file_location, header=True, inferSchema=True)\n",
    "\n",
    "df_property = df_gcs\n",
    "\n",
    "df_gcs.show(5)"
   ]
  },
  {
   "cell_type": "markdown",
   "id": "da90589a-8aec-4978-8a4b-9628fc022e88",
   "metadata": {},
   "source": [
    "## Get data from BigQuery"
   ]
  },
  {
   "cell_type": "code",
   "execution_count": null,
   "id": "f38151cf-e20d-4342-91b7-0a33ab97a24d",
   "metadata": {
    "tags": []
   },
   "outputs": [],
   "source": [
    "# Prepare variables\n",
    "dataset_id = \"subs_property_dataset\" # \"demo_real_estate\"\n",
    "table_id = \"property_type\"\n",
    "\n",
    "bq_table = f\"{PROJECT_ID}.{dataset_id}.{table_id}\"\n",
    "\n",
    "\n",
    "# Get data from BQ table\n",
    "df_bq_table = (\n",
    "    spark.read.format(\"bigquery\")\n",
    "        .option(\"table\", bq_table)\n",
    "        .option(\"location\", LOCATION_ID)\n",
    "        .load()\n",
    ")\n",
    "\n",
    "df_property_type = df_bq_table\n",
    "\n",
    "df_bq_table.show(10)"
   ]
  },
  {
   "cell_type": "markdown",
   "id": "09503dfd-e7e9-46df-80c0-74ad5384213f",
   "metadata": {},
   "source": [
    "### Join tables together"
   ]
  },
  {
   "cell_type": "code",
   "execution_count": null,
   "id": "74d84a9c-9a33-4b51-8322-73fe953be8d2",
   "metadata": {
    "tags": []
   },
   "outputs": [],
   "source": [
    "joined_df = df_property_type.join(df_property, on='property_type_id', how='inner')\n",
    "\n",
    "filtered_df = joined_df.filter(lower(col('type_name')) == 'byt')\n",
    "\n",
    "filtered_df.select('type_name', 'property_name', 'source_url').show()"
   ]
  }
 ],
 "metadata": {
  "environment": {
   "kernel": "a01c992ca489b8c8e8e41652-python3",
   "name": "workbench-notebooks.m131",
   "type": "gcloud",
   "uri": "us-docker.pkg.dev/deeplearning-platform-release/gcr.io/workbench-notebooks:m131"
  },
  "kernelspec": {
   "display_name": "Python 3 on demo-wrkbnch-cluster (Remote)",
   "language": "python",
   "name": "a01c992ca489b8c8e8e41652-python3"
  },
  "language_info": {
   "codemirror_mode": {
    "name": "ipython",
    "version": 3
   },
   "file_extension": ".py",
   "mimetype": "text/x-python",
   "name": "python",
   "nbconvert_exporter": "python",
   "pygments_lexer": "ipython3",
   "version": "3.11.8"
  }
 },
 "nbformat": 4,
 "nbformat_minor": 5
}
