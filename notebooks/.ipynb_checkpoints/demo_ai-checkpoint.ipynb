{
 "cells": [
  {
   "cell_type": "code",
   "execution_count": null,
   "id": "18858ad3-7ffb-43e2-a7a8-268dc6df0b46",
   "metadata": {
    "tags": []
   },
   "outputs": [],
   "source": [
    "# Install the necessary library to interact with BigQuery\n",
    "%pip install pandas-gbq\n",
    "%pip install --upgrade google-genai"
   ]
  },
  {
   "cell_type": "code",
   "execution_count": null,
   "id": "6839a303-758a-4d54-a6b1-77bdd93e4b2f",
   "metadata": {
    "tags": []
   },
   "outputs": [],
   "source": [
    "import pandas_gbq\n",
    "import bigframes.pandas as bf\n",
    "import os"
   ]
  },
  {
   "cell_type": "code",
   "execution_count": null,
   "id": "e5ea6d39-e654-4734-b73d-36ba9f77f53a",
   "metadata": {
    "tags": []
   },
   "outputs": [],
   "source": [
    "# Use local computing power\n",
    "sql = \"SELECT * FROM demo_real_estate.property\"\n",
    "df_property = bf.read_gbq(sql)\n",
    "\n",
    "# display(df_property.head())"
   ]
  },
  {
   "cell_type": "code",
   "execution_count": null,
   "id": "4247be7f-397a-4682-ba50-2badf6c83d2d",
   "metadata": {
    "tags": []
   },
   "outputs": [],
   "source": [
    "# Use local computing power\n",
    "sql = \"SELECT * FROM demo_real_estate.property_type\"\n",
    "df_type = bf.read_gbq(sql)\n",
    "\n",
    "# display(df_type.head())"
   ]
  },
  {
   "cell_type": "code",
   "execution_count": null,
   "id": "55acfb7f-a5e4-44d0-9fb8-9e1202a78ef1",
   "metadata": {
    "tags": []
   },
   "outputs": [],
   "source": [
    "# Merge\n",
    "merged_df = df_property.merge(df_type, left_on='property_type_id', right_on='property_type_key', how='left')\n",
    "\n",
    "# Filtr\n",
    "filter_df = merged_df[merged_df['type_name'].str.lower() == 'byt']\n",
    "\n",
    "# Final filter\n",
    "final_df = filter_df[['property_id', 'description']].head(10)\n",
    "\n",
    "display(final_df)"
   ]
  },
  {
   "cell_type": "code",
   "execution_count": null,
   "id": "89cef0f0-9cea-4827-85a4-038c1fe5d62e",
   "metadata": {
    "tags": []
   },
   "outputs": [],
   "source": [
    "from google import genai\n",
    "from google.genai import types\n",
    "\n",
    "def call_ai(description: str) -> str:\n",
    "    client = genai.Client(vertexai=True, project=\"adcz-adoki-poc\", location=\"global\")\n",
    "\n",
    "    system_instruction = \"You will be provided with description of a property that is listed on a real-estate website. Only print the size of the property in square meters. If not provided print 'None'\"\n",
    "\n",
    "    contents = [\n",
    "        types.Content(\n",
    "            role=\"user\",\n",
    "            parts=[types.Part.from_text(text=str(description or \"\"))]\n",
    "        )\n",
    "    ]\n",
    "\n",
    "    cfg = types.GenerateContentConfig(\n",
    "        temperature=0,\n",
    "        top_p=0.0,\n",
    "        max_output_tokens=64,\n",
    "        safety_settings=[\n",
    "            types.SafetySetting(category=\"HARM_CATEGORY_HATE_SPEECH\", threshold=\"OFF\"),\n",
    "            types.SafetySetting(category=\"HARM_CATEGORY_DANGEROUS_CONTENT\", threshold=\"OFF\"),\n",
    "            types.SafetySetting(category=\"HARM_CATEGORY_SEXUALLY_EXPLICIT\", threshold=\"OFF\"),\n",
    "            types.SafetySetting(category=\"HARM_CATEGORY_HARASSMENT\", threshold=\"OFF\"),\n",
    "        ],\n",
    "        system_instruction=[types.Part.from_text(text=system_instruction)],\n",
    "    )\n",
    "\n",
    "    resp = client.models.generate_content(\n",
    "        model=\"gemini-2.5-flash-lite\",\n",
    "        contents=contents,\n",
    "        config=cfg,\n",
    "    )\n",
    "    return (getattr(resp, \"text\", \"\") or \"\").strip()"
   ]
  },
  {
   "cell_type": "code",
   "execution_count": null,
   "id": "d8a656a1-fe33-4c7e-9e00-652ce5665bb3",
   "metadata": {
    "tags": []
   },
   "outputs": [],
   "source": [
    "pdf = final_df.to_pandas()\n",
    "pdf[\"flat_size\"] = pdf[\"description\"].astype(str).apply(call_ai)\n",
    "\n",
    "import pandas_gbq\n",
    "pandas_gbq.to_gbq(\n",
    "    pdf,\n",
    "    destination_table=\"demo_real_estate.property_ai\",\n",
    "    project_id=\"adcz-adoki-poc\",\n",
    "    if_exists=\"replace\"\n",
    ")"
   ]
  }
 ],
 "metadata": {
  "environment": {
   "kernel": "conda-base-py",
   "name": "workbench-notebooks.m131",
   "type": "gcloud",
   "uri": "us-docker.pkg.dev/deeplearning-platform-release/gcr.io/workbench-notebooks:m131"
  },
  "kernelspec": {
   "display_name": "Python 3 (ipykernel) (Local)",
   "language": "python",
   "name": "conda-base-py"
  },
  "language_info": {
   "codemirror_mode": {
    "name": "ipython",
    "version": 3
   },
   "file_extension": ".py",
   "mimetype": "text/x-python",
   "name": "python",
   "nbconvert_exporter": "python",
   "pygments_lexer": "ipython3",
   "version": "3.10.18"
  }
 },
 "nbformat": 4,
 "nbformat_minor": 5
}
