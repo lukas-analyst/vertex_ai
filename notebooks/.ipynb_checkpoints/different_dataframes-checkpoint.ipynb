{
 "cells": [
  {
   "cell_type": "code",
   "execution_count": null,
   "id": "341bf1a5-7ae4-4ae9-820a-d8ccf7a63609",
   "metadata": {
    "tags": []
   },
   "outputs": [],
   "source": [
    "# Google Cloud Project\n",
    "PROJECT_ID = \"adcz-adoki-poc\"\n",
    "LOCATION_ID = \"europe-west1\"\n",
    "\n",
    "print(f\"Project '{PROJECT_ID}' on a Location '{LOCATION_ID}'\")"
   ]
  },
  {
   "cell_type": "markdown",
   "id": "f918f335-b4ca-4e64-881b-9074906eab0d",
   "metadata": {},
   "source": [
    "# Pandas DataFrame \n",
    "- Vytáhne data do lokální paměti"
   ]
  },
  {
   "cell_type": "code",
   "execution_count": null,
   "id": "9723d302-2ac4-4d93-951d-e7acf4778466",
   "metadata": {
    "tags": []
   },
   "outputs": [],
   "source": [
    "import pandas as pd\n",
    "from sqlalchemy import create_engine\n",
    "\n",
    "# Načtení dat z Google Cloud Storage (GCS)\n",
    "pandas_df_gcs = pd.read_csv('gs://adastra-demo-real-estate/Properties list/dbx_property.csv')\n",
    "\n",
    "print(\"Google Cloud Storage\")\n",
    "display(pandas_df_gcs)"
   ]
  },
  {
   "cell_type": "markdown",
   "id": "b3f4d189-20a0-472d-9d12-d33c0ba2adc4",
   "metadata": {},
   "source": [
    "# Pandas-gbq\n",
    "- Vytáne data do lokální paměti"
   ]
  },
  {
   "cell_type": "code",
   "execution_count": null,
   "id": "f830e896-3a9e-4ae7-bfec-f97021e91688",
   "metadata": {
    "tags": []
   },
   "outputs": [],
   "source": [
    "from pandas_gbq import read_gbq\n",
    "\n",
    "dataset_id = \"subs_property_dataset\" # \"demo_real_estate\"\n",
    "table_id = \"property_type\"\n",
    "\n",
    "sql = f\"SELECT * FROM `{dataset_id}.{table_id}` LIMIT 1000\"\n",
    "\n",
    "pandas_gbq_df = read_gbq(sql, project_id=PROJECT_ID, location=LOCATION_ID)\n",
    "\n",
    "display(pandas_gbq_df)"
   ]
  },
  {
   "cell_type": "markdown",
   "id": "a86c29b7-f91c-40a1-9995-940b87428317",
   "metadata": {},
   "source": [
    "# BigFrames\n",
    "- Přenechá práci na BigQuery clustru\n",
    "- lehké ETL na relativně málo datech (filtr, join)"
   ]
  },
  {
   "cell_type": "code",
   "execution_count": null,
   "id": "07cbb68a-8048-4ece-918d-23e2107f224b",
   "metadata": {
    "tags": []
   },
   "outputs": [],
   "source": [
    "import bigframes.pandas as bpd\n",
    "bigframes_df = bpd.read_gbq(sql)\n",
    "\n",
    "display(bigframes_df)"
   ]
  },
  {
   "cell_type": "markdown",
   "id": "39e19154-d4c0-4ef3-8406-3656eec3e50c",
   "metadata": {},
   "source": [
    "# Spark DataFrame (pouze na clusteru)\n",
    "- Zpracování velkých dat (TB+) rozložených na více uzlů\n",
    "- Možnost paralelních transformací, joinů, agregací"
   ]
  },
  {
   "cell_type": "code",
   "execution_count": null,
   "id": "b95fe3c3-3661-452b-a774-4a4c5c896fdb",
   "metadata": {
    "tags": []
   },
   "outputs": [],
   "source": [
    "%pip install findspark\n",
    "%pip install pyspark\n",
    "%pip install google-cloud-bigquery\n",
    "\n",
    "import findspark\n",
    "from pyspark.sql import SparkSession\n",
    "from pyspark.sql.functions import lower, col\n",
    "\n",
    "findspark.init()\n",
    "spark = SparkSession \\\n",
    "    .builder \\\n",
    "    .master ('yarn') \\\n",
    "    .appName(\"demo-wrkbnch-cluster\") \\\n",
    "    .getOrCreate()\n",
    "\n",
    "# Data z Google Cloud Storage (GCS)\n",
    "file_location = \"gs://adastra-demo-real-estate/Properties list/dbx_property.csv\"\n",
    "df_gcs = spark.read.csv(file_location, header=True, inferSchema=True)\n",
    "\n",
    "# Data z BigQuery (BQ)\n",
    "bq_table = f\"{PROJECT_ID}.demo_real_estate.property_type\"\n",
    "df_bq_table = (\n",
    "    spark.read.format(\"bigquery\")\n",
    "        .option(\"table\", bq_table)\n",
    "        .option(\"location\", LOCATION_ID)\n",
    "        .load()\n",
    ")"
   ]
  }
 ],
 "metadata": {
  "environment": {
   "kernel": "conda-base-py",
   "name": "workbench-notebooks.m131",
   "type": "gcloud",
   "uri": "us-docker.pkg.dev/deeplearning-platform-release/gcr.io/workbench-notebooks:m131"
  },
  "kernelspec": {
   "display_name": "Python 3 (ipykernel) (Local)",
   "language": "python",
   "name": "conda-base-py"
  },
  "language_info": {
   "codemirror_mode": {
    "name": "ipython",
    "version": 3
   },
   "file_extension": ".py",
   "mimetype": "text/x-python",
   "name": "python",
   "nbconvert_exporter": "python",
   "pygments_lexer": "ipython3",
   "version": "3.10.18"
  }
 },
 "nbformat": 4,
 "nbformat_minor": 5
}
